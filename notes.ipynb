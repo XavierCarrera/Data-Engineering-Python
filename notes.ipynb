{
 "metadata": {
  "language_info": {
   "codemirror_mode": {
    "name": "ipython",
    "version": 3
   },
   "file_extension": ".py",
   "mimetype": "text/x-python",
   "name": "python",
   "nbconvert_exporter": "python",
   "pygments_lexer": "ipython3",
   "version": 3
  },
  "orig_nbformat": 2
 },
 "nbformat": 4,
 "nbformat_minor": 2,
 "cells": [
  {
   "cell_type": "code",
   "execution_count": null,
   "metadata": {},
   "outputs": [],
   "source": [
    "import requests\n",
    "\n",
    "response.get(\"https://www.platzi.com/\")\n",
    "\n",
    "print(dir(response))"
   ]
  },
  {
   "cell_type": "code",
   "execution_count": null,
   "metadata": {},
   "outputs": [],
   "source": [
    "import bs4\n",
    "soup = bs4.BeautifulSoup(response.text, 'html.parser',)\n",
    "\n",
    "print(soup.title.text)\n",
    "\n",
    "print(soup.select('meta[name=description]')[0]['content'])\n",
    "\n",
    "courses_link = soup.select('.RecentCourses-item')\n",
    "\n",
    "courses = [course.a['href'] for course in courses_link]\n",
    "\n",
    "for i in courses:\n",
    "    print(i)"
   ]
  },
  {
   "cell_type": "code",
   "execution_count": null,
   "metadata": {},
   "outputs": [],
   "source": [
    "import requests\n",
    "import bs4\n",
    "\n",
    "url = \"https://www.eltiempo.com\"\n",
    "\n",
    "response = requests.get(url)\n",
    "\n",
    "soup = bs4.BeautifulSoup(response.text, 'html.parser')\n",
    "news = soup.select('.title-container a')\n",
    "\n",
    "for item innews:\n",
    "    print(f\"Noticia:{item.text} | Link: {url}{item['href']}\")"
   ]
  }
 ]
}